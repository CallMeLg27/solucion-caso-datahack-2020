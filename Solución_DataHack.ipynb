{
  "nbformat": 4,
  "nbformat_minor": 0,
  "metadata": {
    "colab": {
      "name": "Solución DataHack.ipynb",
      "provenance": [],
      "collapsed_sections": []
    },
    "kernelspec": {
      "name": "python3",
      "display_name": "Python 3"
    }
  },
  "cells": [
    {
      "cell_type": "markdown",
      "metadata": {
        "id": "TUtn8E8Rb1y-"
      },
      "source": [
        "**Pregunta 1**"
      ]
    },
    {
      "cell_type": "markdown",
      "metadata": {
        "id": "hYUf9OEDbppz"
      },
      "source": [
        "Elaborar un programa que determine la suma de los dígitos de un número (de hasta 5 dígitos).<br>\r\n",
        "Ej:<br>\r\n",
        "Input  45  103<br>\r\n",
        "Output 9   4"
      ]
    },
    {
      "cell_type": "code",
      "metadata": {
        "colab": {
          "base_uri": "https://localhost:8080/"
        },
        "id": "7htE-kNCcBBS",
        "outputId": "f5759875-e424-4a4d-c3d1-0a226a933065"
      },
      "source": [
        "def suma_cifras(n):\r\n",
        "  suma = 0\r\n",
        "  while n > 0:\r\n",
        "    res = n % 10\r\n",
        "    n //= 10\r\n",
        "    suma += res\r\n",
        "  return suma\r\n",
        "  \r\n",
        "# main\r\n",
        "num = int(input())\r\n",
        "if num < 0:\r\n",
        "  print(\"Error: Ingrese un número positivo\")\r\n",
        "elif num > 99999:\r\n",
        "  print(\"Error: Ingrese un número de hasta 5 dígitos\")\r\n",
        "else:\r\n",
        "  # Si pasa las validaciones anteriores, se llama a la función que suma las\r\n",
        "  # cifras del número\r\n",
        "  print(suma_cifras(num))"
      ],
      "execution_count": 3,
      "outputs": [
        {
          "output_type": "stream",
          "text": [
            "103\n",
            "4\n"
          ],
          "name": "stdout"
        }
      ]
    },
    {
      "cell_type": "markdown",
      "metadata": {
        "id": "IkQ2a3JUcDlO"
      },
      "source": [
        "**Pregunta 2**"
      ]
    },
    {
      "cell_type": "markdown",
      "metadata": {
        "id": "GNU4egmzcBNI"
      },
      "source": [
        "Dado dos listas/vectores de enteros, indicar si el elemento de menor valor es encontrado en el otro vector. Ej:<br>\r\n",
        "Input V1= [45, 12, 1, 4]      V2=[103, 123, 0, 5, 9]<br>\r\n",
        "Output False<br>\r\n",
        "\r\n",
        "Input V1= [1, 2, 4, 55]      V2=[1, 4, 5, 0, 23]<br>\r\n",
        "Output True"
      ]
    },
    {
      "cell_type": "code",
      "metadata": {
        "colab": {
          "base_uri": "https://localhost:8080/"
        },
        "id": "uGcSGls5cBdm",
        "outputId": "2ce49b7a-4f8a-4635-d38d-9b9d27a3d3d1"
      },
      "source": [
        "def menor_elemento(vec):\r\n",
        "  \"\"\"\r\n",
        "  Recorre el vector de izquierda a derecha en busca del menor elemento\r\n",
        "  \"\"\"\r\n",
        "  min = vec[0]\r\n",
        "  for elem in vec:\r\n",
        "    if elem < min:\r\n",
        "      min = elem\r\n",
        "  return min\r\n",
        "\r\n",
        "def leer_lista():\r\n",
        "  # Ingresa el vector como enteros separados por espacios. Ej: 45 12 1 4\r\n",
        "  return list(map(int,input().strip().split()))\r\n",
        "\r\n",
        "# main\r\n",
        "v1 = leer_lista()\r\n",
        "v2 = leer_lista()\r\n",
        "\r\n",
        "print(menor_elemento(v1) in v2)"
      ],
      "execution_count": 4,
      "outputs": [
        {
          "output_type": "stream",
          "text": [
            "45 12 1 4\n",
            "45 12 1 4\n",
            "True\n"
          ],
          "name": "stdout"
        }
      ]
    },
    {
      "cell_type": "markdown",
      "metadata": {
        "id": "N6TbYFZrcHl6"
      },
      "source": [
        "**Pregunta 3**"
      ]
    },
    {
      "cell_type": "markdown",
      "metadata": {
        "id": "Tqq4t7OKcBmD"
      },
      "source": [
        "Encontrar los números que se repiten (dos o más veces) en un arreglo(array) de 100 valores aleatorios.<br>\r\n",
        "Input V1= [45, 12, 1, 4, 103, 123, 1, 5, 9]<br>\r\n",
        "Output esperado 1<br>\r\n",
        "\r\n",
        "Input V1= [45, 12, 1, 4, 45, 123, 1, 5, 9]<br>\r\n",
        "Output esperado 45, 1<br>\r\n",
        "\r\n",
        "Input V1= [45, 123, 1, 4, 45, 123, 1, 5, 9]<br>\r\n",
        "Output esperado 45, 1, 123"
      ]
    },
    {
      "cell_type": "code",
      "metadata": {
        "colab": {
          "base_uri": "https://localhost:8080/"
        },
        "id": "1VDt68tscByB",
        "outputId": "cd180801-442c-4361-9e53-44f4adf9ed06"
      },
      "source": [
        "import numpy as np\r\n",
        "\r\n",
        "def halla_repetidos(vec):\r\n",
        "  \"\"\"\r\n",
        "  Devuelve un conjunto (set) de los elementos repetidos del vector\r\n",
        "  Los visitados \r\n",
        "  \"\"\"\r\n",
        "  visitados = set()\r\n",
        "  repetidos = set()\r\n",
        "\r\n",
        "  for n in vec:\r\n",
        "    if n in visitados:\r\n",
        "      repetidos.add(n)\r\n",
        "    else:\r\n",
        "      visitados.add(n)\r\n",
        "  return repetidos\r\n",
        "\r\n",
        "arr = np.random.randint(200,size=100)\r\n",
        "print(\"Input:\" ,arr)\r\n",
        "\r\n",
        "repetidos = halla_repetidos(arr)\r\n",
        "\r\n",
        "print(\"Output: \", end=\"\")\r\n",
        "print(*repetidos, sep=\", \")"
      ],
      "execution_count": 5,
      "outputs": [
        {
          "output_type": "stream",
          "text": [
            "Input: [167  49 195 143  77  13 123  20  55 140  17 194  11 130  76  75  52 162\n",
            " 157 140 113 131  88  72 196  86 107  41 160  18 161  31  65  20 172 131\n",
            " 139  42  65 142 171 116  22  62  63  69  90 135 185 112  87  50 125  65\n",
            " 112  45 182 125   3 135 119  79 109  21   7  65 123  98 108  29 151 118\n",
            " 174 177 107 181 142 125  59  18 153 119  84  42 130  50 162  11 149   1\n",
            " 114  40 194  89  74 123 136 122  53 198]\n",
            "Output: 65, 130, 131, 162, 194, 135, 42, 107, 140, 11, 142, 112, 18, 50, 20, 119, 123, 125\n"
          ],
          "name": "stdout"
        }
      ]
    },
    {
      "cell_type": "markdown",
      "metadata": {
        "id": "Luc1xXgscM5H"
      },
      "source": [
        "**Pregunta 4**"
      ]
    },
    {
      "cell_type": "markdown",
      "metadata": {
        "id": "qnnO2jCNcB7b"
      },
      "source": [
        "Scrapear todo los titulos de los comics de la página\r\n",
        "https://xkcd.com/archive/  y guardarlos en archivo 'comic.csv'"
      ]
    },
    {
      "cell_type": "code",
      "metadata": {
        "colab": {
          "base_uri": "https://localhost:8080/"
        },
        "id": "B7UqQiB8a0UA",
        "outputId": "51f47db8-c39c-41d3-f413-f8a2d68ac5cf"
      },
      "source": [
        "import requests\r\n",
        "from bs4 import BeautifulSoup\r\n",
        "import pandas as pd\r\n",
        "\r\n",
        "# Se solicita la página web\r\n",
        "URL = 'https://xkcd.com/archive/'\r\n",
        "page = requests.get(URL)\r\n",
        "\r\n",
        "\r\n",
        "# Se extraen los links (<a href=\"...\">) que contienen los títulos de los cómics\r\n",
        "soup = BeautifulSoup(page.content, 'html.parser')\r\n",
        "results = soup.find(id='middleContainer')\r\n",
        "links = results.find_all('a')\r\n",
        "\r\n",
        "\r\n",
        "# Se extrae el contenido de los links y se almacena en un DataFrame\r\n",
        "comic_titles = [comic_title.text for comic_title in links]\r\n",
        "df_comic_titles = pd.DataFrame(comic_titles, columns=['comics'])\r\n",
        "\r\n",
        "\r\n",
        "# # Se guarda el dataframe localmente en un archivo csv (opción 1)\r\n",
        "# df_comic_titles.to_csv('comic.csv', index=False)\r\n",
        "\r\n",
        "\r\n",
        "# # Se guarda el drive en un archivo csv (opción 2)\r\n",
        "from google.colab import drive\r\n",
        "drive.mount('/content/drive')\r\n",
        "df_comic_titles.to_csv('/content/drive/My Drive/comic.csv', index=False)"
      ],
      "execution_count": 6,
      "outputs": [
        {
          "output_type": "stream",
          "text": [
            "Mounted at /content/drive\n"
          ],
          "name": "stdout"
        }
      ]
    }
  ]
}